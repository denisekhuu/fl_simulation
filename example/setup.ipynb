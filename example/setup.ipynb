{
 "cells": [
  {
   "cell_type": "markdown",
   "id": "efb2ce09-6dfe-4d32-bd41-8c3c994be73d",
   "metadata": {},
   "source": [
    "# Setup for a Federated Learning Simulation"
   ]
  },
  {
   "cell_type": "markdown",
   "id": "25ec221f-1ed7-4f4c-b7ea-abd10d1df114",
   "metadata": {},
   "source": [
    "Before starting the FL Simulation, we need to create the initial model parameter such that each local model has the same default behaviour. This will be the starting point of the learning process.\n",
    "In this tutorial, we use the default configurations with the MNIST dataset. \n",
    "If you you use your own configuration class, make sure to add the attributes listed in the documentation."
   ]
  },
  {
   "cell_type": "code",
   "execution_count": null,
   "id": "c40ab57e-fc03-4961-809b-035691b8add4",
   "metadata": {},
   "outputs": [],
   "source": [
    "from fl_simulation.configuration import DefaultConfigurations\n",
    "from fl_simulation import create_default_model\n",
    "\n",
    "config = DefaultConfigurations()\n",
    "create_default_model(config)"
   ]
  },
  {
   "cell_type": "markdown",
   "id": "7acd1b27-e6f9-4ef6-ba86-06b38bb825a4",
   "metadata": {},
   "source": [
    "You have successfully created the default model for the default MNIST CNN"
   ]
  }
 ],
 "metadata": {
  "kernelspec": {
   "display_name": "Python 3 (ipykernel)",
   "language": "python",
   "name": "python3"
  },
  "language_info": {
   "codemirror_mode": {
    "name": "ipython",
    "version": 3
   },
   "file_extension": ".py",
   "mimetype": "text/x-python",
   "name": "python",
   "nbconvert_exporter": "python",
   "pygments_lexer": "ipython3",
   "version": "3.10.6"
  }
 },
 "nbformat": 4,
 "nbformat_minor": 5
}
