{
 "cells": [
  {
   "cell_type": "code",
   "execution_count": null,
   "id": "7f879e55-66fc-4e21-a21c-f69d9c782541",
   "metadata": {},
   "outputs": [],
   "source": [
    "%load_ext autoreload\n",
    "%autoreload 2"
   ]
  },
  {
   "cell_type": "code",
   "execution_count": null,
   "id": "aa21966d-32fd-4040-b17c-1eb397aea2a1",
   "metadata": {},
   "outputs": [],
   "source": []
  },
  {
   "cell_type": "code",
   "execution_count": 1,
   "id": "02a71966-ea0e-45d6-8b4f-a8ff2c336864",
   "metadata": {},
   "outputs": [],
   "source": [
    "from fl_simulation.dataset import MNISTDataset\n",
    "from fl_simulation.configuration import DefaultConfigurations\n",
    "from fl_simulation.simulation import DefaultSimulation"
   ]
  },
  {
   "cell_type": "code",
   "execution_count": 2,
   "id": "0245e934-0095-48b2-82d0-87fb86ab2e15",
   "metadata": {},
   "outputs": [
    {
     "name": "stdout",
     "output_type": "stream",
     "text": [
      "MNIST training data loaded.\n",
      "MNIST test data loaded.\n",
      "2022-10-07 14:22:43,377 - root - INFO - Load default model to server successfully.\n",
      "2022-10-07 14:22:43,410 - root - INFO - Create 200 clients with dataset of size 300\n"
     ]
    }
   ],
   "source": [
    "config =  DefaultConfigurations()\n",
    "data = MNISTDataset(config)\n",
    "simulation = DefaultSimulation(config, data)"
   ]
  },
  {
   "cell_type": "code",
   "execution_count": 3,
   "id": "03953d6d-0780-47d9-a0e2-5dc130e02c00",
   "metadata": {},
   "outputs": [
    {
     "name": "stdout",
     "output_type": "stream",
     "text": [
      "2022-10-07 14:22:50,149 - root - INFO - Model aggregation in round 1 was successful\n",
      "2022-10-07 14:22:51,711 - root - INFO - Model aggregation in round 2 was successful\n",
      "2022-10-07 14:22:53,219 - root - INFO - Model aggregation in round 3 was successful\n",
      "2022-10-07 14:22:54,692 - root - INFO - Model aggregation in round 4 was successful\n",
      "2022-10-07 14:22:56,161 - root - INFO - Model aggregation in round 5 was successful\n",
      "2022-10-07 14:22:57,646 - root - INFO - Model aggregation in round 6 was successful\n",
      "2022-10-07 14:22:59,252 - root - INFO - Model aggregation in round 7 was successful\n",
      "2022-10-07 14:23:00,997 - root - INFO - Model aggregation in round 8 was successful\n",
      "2022-10-07 14:23:02,665 - root - INFO - Model aggregation in round 9 was successful\n",
      "2022-10-07 14:23:04,175 - root - INFO - Model aggregation in round 10 was successful\n",
      "2022-10-07 14:23:05,676 - root - INFO - Model aggregation in round 11 was successful\n",
      "2022-10-07 14:23:07,146 - root - INFO - Model aggregation in round 12 was successful\n",
      "2022-10-07 14:23:08,643 - root - INFO - Model aggregation in round 13 was successful\n",
      "2022-10-07 14:23:10,192 - root - INFO - Model aggregation in round 14 was successful\n",
      "2022-10-07 14:23:11,703 - root - INFO - Model aggregation in round 15 was successful\n",
      "2022-10-07 14:23:13,376 - root - INFO - Model aggregation in round 16 was successful\n",
      "2022-10-07 14:23:14,984 - root - INFO - Model aggregation in round 17 was successful\n",
      "2022-10-07 14:23:16,702 - root - INFO - Model aggregation in round 18 was successful\n",
      "2022-10-07 14:23:18,408 - root - INFO - Model aggregation in round 19 was successful\n",
      "2022-10-07 14:23:19,967 - root - INFO - Model aggregation in round 20 was successful\n"
     ]
    }
   ],
   "source": [
    "simulation.run_simulation(20)"
   ]
  },
  {
   "cell_type": "code",
   "execution_count": null,
   "id": "a381ada8-9efa-4f50-860c-044374478481",
   "metadata": {},
   "outputs": [],
   "source": []
  }
 ],
 "metadata": {
  "kernelspec": {
   "display_name": "Python 3 (ipykernel)",
   "language": "python",
   "name": "python3"
  },
  "language_info": {
   "codemirror_mode": {
    "name": "ipython",
    "version": 3
   },
   "file_extension": ".py",
   "mimetype": "text/x-python",
   "name": "python",
   "nbconvert_exporter": "python",
   "pygments_lexer": "ipython3",
   "version": "3.10.6"
  }
 },
 "nbformat": 4,
 "nbformat_minor": 5
}
