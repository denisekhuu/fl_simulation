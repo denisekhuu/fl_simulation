{
 "cells": [
  {
   "cell_type": "code",
   "execution_count": null,
   "id": "7f879e55-66fc-4e21-a21c-f69d9c782541",
   "metadata": {},
   "outputs": [],
   "source": [
    "%load_ext autoreload\n",
    "%autoreload 2"
   ]
  },
  {
   "cell_type": "code",
   "execution_count": 4,
   "id": "9425ecf0-7d1d-4857-9143-635f061ff69f",
   "metadata": {},
   "outputs": [],
   "source": [
    "from abc import ABC, abstractmethod"
   ]
  },
  {
   "cell_type": "code",
   "execution_count": null,
   "id": "083e2d97-072c-438e-858c-641be8175bc1",
   "metadata": {},
   "outputs": [],
   "source": [
    "class Client(ABC):\n",
    "    \n",
    "    def __init__(self):\n",
    "        pass\n",
    "    \n",
    "    def update_nn_parameters(self, new_params):\n",
    "        pass\n",
    "    \n",
    "    \n",
    "    def get_nn_parameters(self):\n",
    "        pass\n"
   ]
  },
  {
   "cell_type": "code",
   "execution_count": null,
   "id": "422feb14-2fde-45c0-afd6-785c994092a2",
   "metadata": {},
   "outputs": [],
   "source": [
    "class DefaultClient(Client):\n",
    "    "
   ]
  },
  {
   "cell_type": "code",
   "execution_count": null,
   "id": "a7469ce6-4a1d-429a-be79-a6eff68805e3",
   "metadata": {},
   "outputs": [],
   "source": [
    "class Server(ABC):\n",
    "    \n",
    "    def __init__():\n",
    "        pass\n",
    "        \n",
    "    def aggregate_model(self, client_parameters): \n",
    "        pass\n",
    "        \n",
    "    def select_clients(self):\n",
    "        pass\n",
    "        \n",
    "    def update_nn_parameters(self, new_params):\n",
    "        pass\n",
    "        "
   ]
  },
  {
   "cell_type": "code",
   "execution_count": null,
   "id": "aa21966d-32fd-4040-b17c-1eb397aea2a1",
   "metadata": {},
   "outputs": [],
   "source": [
    "class Simulation(ABC): \n",
    "    "
   ]
  },
  {
   "cell_type": "code",
   "execution_count": null,
   "id": "0245e934-0095-48b2-82d0-87fb86ab2e15",
   "metadata": {},
   "outputs": [],
   "source": []
  }
 ],
 "metadata": {
  "kernelspec": {
   "display_name": "Python 3 (ipykernel)",
   "language": "python",
   "name": "python3"
  },
  "language_info": {
   "codemirror_mode": {
    "name": "ipython",
    "version": 3
   },
   "file_extension": ".py",
   "mimetype": "text/x-python",
   "name": "python",
   "nbconvert_exporter": "python",
   "pygments_lexer": "ipython3",
   "version": "3.10.6"
  }
 },
 "nbformat": 4,
 "nbformat_minor": 5
}
